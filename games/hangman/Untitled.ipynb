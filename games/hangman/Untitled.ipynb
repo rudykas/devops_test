{
 "cells": [
  {
   "cell_type": "code",
   "execution_count": 38,
   "id": "8342c8a8-dcc8-4d39-8b55-a452e4321618",
   "metadata": {},
   "outputs": [
    {
     "name": "stdout",
     "output_type": "stream",
     "text": [
      "Hi! here is what you need to guess: ____ \n",
      "your turn: \n"
     ]
    },
    {
     "name": "stdin",
     "output_type": "stream",
     "text": [
      "Guess letter:  u\n"
     ]
    },
    {
     "name": "stdout",
     "output_type": "stream",
     "text": [
      "nope, you made 1 errors\n",
      "\n",
      "    —\n",
      "      \n"
     ]
    },
    {
     "name": "stdin",
     "output_type": "stream",
     "text": [
      "Ok. Guess next letter:  u\n"
     ]
    },
    {
     "name": "stdout",
     "output_type": "stream",
     "text": [
      "nope, you made 2 errors\n",
      "\n",
      "    —\n",
      "      I \n",
      "      \n"
     ]
    },
    {
     "name": "stdin",
     "output_type": "stream",
     "text": [
      "Ok. Guess next letter:  u\n"
     ]
    },
    {
     "name": "stdout",
     "output_type": "stream",
     "text": [
      "nope, you made 3 errors\n",
      "\n",
      "    —\n",
      "      I \n",
      "      O\n",
      "     \n"
     ]
    },
    {
     "name": "stdin",
     "output_type": "stream",
     "text": [
      "Ok. Guess next letter:  u\n"
     ]
    },
    {
     "name": "stdout",
     "output_type": "stream",
     "text": [
      "nope, you made 4 errors\n",
      "\n",
      "    —\n",
      "      I \n",
      "      O\n",
      "     /\n"
     ]
    },
    {
     "name": "stdin",
     "output_type": "stream",
     "text": [
      "Ok. Guess next letter:  u\n"
     ]
    },
    {
     "name": "stdout",
     "output_type": "stream",
     "text": [
      "nope, you made 5 errors\n",
      "\n",
      "    —\n",
      "      I \n",
      "      O\n",
      "     /I     \n",
      "     \n"
     ]
    },
    {
     "name": "stdin",
     "output_type": "stream",
     "text": [
      "Ok. Guess next letter:  u\n"
     ]
    },
    {
     "name": "stdout",
     "output_type": "stream",
     "text": [
      "nope, you made 6 errors\n",
      "\n",
      "    —\n",
      "      I \n",
      "      O\n",
      "     /I     \n",
      "     l\n"
     ]
    },
    {
     "name": "stdin",
     "output_type": "stream",
     "text": [
      "Ok. Guess next letter:  u\n"
     ]
    },
    {
     "name": "stdout",
     "output_type": "stream",
     "text": [
      "nope, you made 7 errors\n",
      "\n",
      "    —\n",
      "      I \n",
      "      O\n",
      "     /I     \n",
      "     ll\n",
      "   \n"
     ]
    },
    {
     "name": "stdin",
     "output_type": "stream",
     "text": [
      "Ok. Guess next letter:  o\n"
     ]
    },
    {
     "name": "stdout",
     "output_type": "stream",
     "text": [
      "_o__\n"
     ]
    },
    {
     "name": "stdin",
     "output_type": "stream",
     "text": [
      "Ok. Guess next letter:  i\n"
     ]
    },
    {
     "name": "stdout",
     "output_type": "stream",
     "text": [
      "nope, you made 8 errors\n",
      "\n",
      "    —\n",
      "      I \n",
      "      O\n",
      "     /I     \n",
      "     ll\n",
      "   \n"
     ]
    },
    {
     "name": "stdin",
     "output_type": "stream",
     "text": [
      "Ok. Guess next letter:  u\n"
     ]
    },
    {
     "name": "stdout",
     "output_type": "stream",
     "text": [
      "Congrats! You lost\n"
     ]
    }
   ],
   "source": [
    "# imports\n",
    "import random\n",
    "import numpy as np\n",
    "\n",
    "\n",
    "# words \n",
    "\n",
    "words = ['test', 'cat', 'dogt', 'lampt']\n",
    "\n",
    "# game \n",
    "## the task \n",
    "\n",
    "word = words[random.randint(0,len(words)-1)]\n",
    "\n",
    "length = len(word)\n",
    "hidden_word = '_'*length\n",
    "shown_word = hidden_word\n",
    "\n",
    "print('Hi! here is what you need to guess: ' + hidden_word + ' \\nyour turn: ')\n",
    "\n",
    "## input \n",
    "\n",
    "letter = input('Guess letter: ')\n",
    "\n",
    "def open_letter(letter, word, shown_word): \n",
    "    # indices = np.where(array > 5)[0] = \n",
    "    word = np.array(list(word))\n",
    "    if letter in word: \n",
    "        indices = np.where(word == letter)\n",
    "        shown_word = np.array(list(shown_word))\n",
    "        shown_word[indices] = letter\n",
    "        shown_word = ''.join(shown_word)\n",
    "    print(shown_word)\n",
    "    return shown_word\n",
    "\n",
    "\n",
    "\n",
    "def draw_next(state):\n",
    "    hangman = '''\n",
    "    —\n",
    "      I \n",
    "      O\n",
    "     /I\\\n",
    "     \n",
    "     ll\n",
    "    '''\n",
    "    count = 0\n",
    "    for i in range(len(hangman)):\n",
    "        if hangman[i] == ' ' or hangman[i] == '\\n':\n",
    "            pass\n",
    "        elif count == state: break\n",
    "        else: \n",
    "            count +=1\n",
    "            # print('i',i)\n",
    "    return hangman[:i]\n",
    "        \n",
    "\n",
    "state = 0\n",
    "while state < 8: \n",
    "    if letter in word:\n",
    "        shown_word = open_letter(letter, word, shown_word)\n",
    "        if '_' not in shown_word: print('Congrats! You won, word is', shown_word)\n",
    "    else: \n",
    "\n",
    "        state += 1\n",
    "        print('nope, you made ' + str(state) + ' errors')\n",
    "        print(draw_next(state))\n",
    "    letter = input('Ok. Guess next letter: ')\n",
    "    #todo add \n",
    "\n",
    "print('Congrats! You lost')\n",
    "# drawing \n",
    "\n",
    "\n",
    "# end"
   ]
  },
  {
   "cell_type": "code",
   "execution_count": 26,
   "id": "a20a9a12-98b5-4565-a317-427872d01bb3",
   "metadata": {},
   "outputs": [
    {
     "data": {
      "text/plain": [
       "20"
      ]
     },
     "execution_count": 26,
     "metadata": {},
     "output_type": "execute_result"
    }
   ],
   "source": [
    "len(hangman)"
   ]
  },
  {
   "cell_type": "code",
   "execution_count": 23,
   "id": "1b5dbf8c-f12b-43ea-bccc-75c3f2e56e29",
   "metadata": {},
   "outputs": [
    {
     "name": "stdout",
     "output_type": "stream",
     "text": [
      "\n",
      "    —\n",
      "      I \n",
      "      O\n",
      "     /I      ll\n",
      "   \n"
     ]
    }
   ],
   "source": [
    "print(draw_next(2))"
   ]
  },
  {
   "cell_type": "code",
   "execution_count": 24,
   "id": "b1931a91-c114-4de9-a9b8-58fc55994655",
   "metadata": {},
   "outputs": [
    {
     "ename": "NameError",
     "evalue": "name 'i' is not defined",
     "output_type": "error",
     "traceback": [
      "\u001b[0;31m---------------------------------------------------------------------------\u001b[0m",
      "\u001b[0;31mNameError\u001b[0m                                 Traceback (most recent call last)",
      "Cell \u001b[0;32mIn[24], line 1\u001b[0m\n\u001b[0;32m----> 1\u001b[0m \u001b[43mi\u001b[49m\n",
      "\u001b[0;31mNameError\u001b[0m: name 'i' is not defined"
     ]
    }
   ],
   "source": [
    "i"
   ]
  },
  {
   "cell_type": "code",
   "execution_count": null,
   "id": "931d8770-3ecc-4e81-81ee-eadbd1479c89",
   "metadata": {},
   "outputs": [],
   "source": []
  }
 ],
 "metadata": {
  "kernelspec": {
   "display_name": "Python 3 (ipykernel)",
   "language": "python",
   "name": "python3"
  },
  "language_info": {
   "codemirror_mode": {
    "name": "ipython",
    "version": 3
   },
   "file_extension": ".py",
   "mimetype": "text/x-python",
   "name": "python",
   "nbconvert_exporter": "python",
   "pygments_lexer": "ipython3",
   "version": "3.10.8"
  }
 },
 "nbformat": 4,
 "nbformat_minor": 5
}
